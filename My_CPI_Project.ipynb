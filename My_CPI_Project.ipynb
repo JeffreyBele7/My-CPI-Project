{
 "cells": [
  {
   "cell_type": "markdown",
   "id": "de3f564c-eb57-413a-81f8-3dc9ef88fa83",
   "metadata": {
    "id": "de3f564c-eb57-413a-81f8-3dc9ef88fa83"
   },
   "source": [
    "# Project 1\n",
    "\n",
    "Zhengwei Sun, Zeyuan Hu, Jeffrey Bele"
   ]
  },
  {
   "cell_type": "markdown",
   "id": "8d3ca85a-05e5-4f7d-a439-106fa6ce5053",
   "metadata": {
    "id": "8d3ca85a-05e5-4f7d-a439-106fa6ce5053"
   },
   "source": [
    "## 1. Import the library and set the API Key"
   ]
  },
  {
   "cell_type": "markdown",
   "id": "4d8534e7-3084-4a9a-bb57-ff9468994d3c",
   "metadata": {
    "id": "4d8534e7-3084-4a9a-bb57-ff9468994d3c"
   },
   "source": [
    "## 2. Define basket and weights"
   ]
  },
  {
   "cell_type": "code",
   "execution_count": 2,
   "id": "1c805dae-4a3f-4c1e-b450-887b48d87652",
   "metadata": {
    "colab": {
     "base_uri": "https://localhost:8080/"
    },
    "id": "1c805dae-4a3f-4c1e-b450-887b48d87652",
    "outputId": "9f19e9f7-dcdc-41d5-b2d3-9ecd6058db4b"
   },
   "outputs": [
    {
     "name": "stdout",
     "output_type": "stream",
     "text": [
      "api keys loaded\n"
     ]
    }
   ],
   "source": [
    "# Import necessary libraries\n",
    "import numpy as np  # For numerical operations\n",
    "import pandas as pd  # For handling data in DataFrame format\n",
    "import requests  # For making HTTP requests\n",
    "import json  # For working with JSON data\n",
    "from matplotlib import pyplot as plt  # For data visualization\n",
    "\n",
    "# Run the APIkeys.py script to load API keys\n",
    "%run APIkeys.py\n",
    "\n",
    "# Retrieve the BLS (Bureau of Labor Statistics) API key from the environment variables\n",
    "import os  # Import os module to access environment variables\n",
    "key = os.environ['BLS_API_key']  # Fetch the API key stored in the system environment"
   ]
  },
  {
   "cell_type": "markdown",
   "id": "aoH67CRA_rMR",
   "metadata": {
    "id": "aoH67CRA_rMR"
   },
   "source": [
    "#### Locations and weights:"
   ]
  },
  {
   "cell_type": "markdown",
   "id": "1aff5da2-a87a-4790-bfe7-30663d10c39f",
   "metadata": {
    "id": "1aff5da2-a87a-4790-bfe7-30663d10c39f"
   },
   "source": [
    "The following places are places I have stayed in for a period of time and have been weighted based on personal preference:\n",
    "- 0300: South, with weight 0.1\n",
    "- 0400:\tWest, with weight 0.5\n",
    "- 0230:\tEast North Central, with weight 0.4"
   ]
  },
  {
   "cell_type": "markdown",
   "id": "LhcZw6K0_v_f",
   "metadata": {
    "id": "LhcZw6K0_v_f"
   },
   "source": [
    "#### Items and weights:"
   ]
  },
  {
   "cell_type": "markdown",
   "id": "bafd95f3-a196-443b-917d-de7114fa296b",
   "metadata": {
    "id": "bafd95f3-a196-443b-917d-de7114fa296b"
   },
   "source": [
    "The following items are based on the expenses of international students living off campus listed in the Bureau of Labor Statistics:\n",
    "- Takeout (SEFV): Food away from home, with weight 0.1: Students frequently eat out due to busy schedules.\n",
    "\n",
    "- Rent (SEHA): Rent of primary residence, with weight 0.2: Renting is one of the major expenses for off-campus students.\n",
    "\n",
    "- Gasoline (SETB): Motor fuel, with weight 0.1: Students who need to drive to commute because they live off campus.\n",
    "\n",
    "- Tuition (SEEB): Tuition, other school fees, and childcare, with weight 0.4: IInternational students often have higher tuition fees.\n",
    "\n",
    "- Electricity (SEHF): Energy services, with weight 0.05: Essential services for off-campus students.\n",
    "\n",
    "- MedCare (SAM): Medical care, with weight 0.05: International students are required to have health insurance.\n",
    "\n",
    "- Groceries (SAF11): Food at home, with weight 0.05: Groceries for students who cook at home.\n",
    "\n",
    "- Apparel (SAA): Apparel, with weight 0.05: Clothing, shoes, and personal care items."
   ]
  },
  {
   "cell_type": "markdown",
   "id": "r6buc3vDA4v9",
   "metadata": {
    "id": "r6buc3vDA4v9"
   },
   "source": [
    "#### Make a clear table defining the basket of items for regression:"
   ]
  },
  {
   "cell_type": "code",
   "execution_count": 3,
   "id": "0fBqzCw2BEpf",
   "metadata": {
    "colab": {
     "base_uri": "https://localhost:8080/"
    },
    "id": "0fBqzCw2BEpf",
    "outputId": "bf117ced-0b86-4fd7-92af-1717194656fb"
   },
   "outputs": [
    {
     "name": "stdout",
     "output_type": "stream",
     "text": [
      "          Item  BLSID  Weight\n",
      "0      Takeout   SEFV    0.10\n",
      "1         Rent   SEHA    0.20\n",
      "2     Gasoline   SETB    0.10\n",
      "3      Tuition   SEEB    0.40\n",
      "4  Electricity   SEHF    0.05\n",
      "5      MedCare    SAM    0.05\n",
      "6    Groceries  SAF11    0.05\n",
      "7      Apparel    SAA    0.05\n"
     ]
    }
   ],
   "source": [
    "# Define the data\n",
    "categories = [\n",
    "    (\"Takeout\", \"SEFV\", 0.1),\n",
    "    (\"Rent\", \"SEHA\", 0.2),\n",
    "    (\"Gasoline\", \"SETB\", 0.1),\n",
    "    (\"Tuition\", \"SEEB\", 0.4),\n",
    "    (\"Electricity\", \"SEHF\", 0.05),\n",
    "    (\"MedCare\", \"SAM\", 0.05),\n",
    "    (\"Groceries\", \"SAF11\", 0.05),\n",
    "    (\"Apparel\", \"SAA\", 0.05),\n",
    "]\n",
    "\n",
    "# Create a DataFrame\n",
    "df = pd.DataFrame(categories, columns=[\"Item\", \"BLSID\", \"Weight\"])\n",
    "\n",
    "# Display the table\n",
    "print(df)"
   ]
  },
  {
   "cell_type": "markdown",
   "id": "9c9f49db-072a-4659-91d2-5eff6e59af37",
   "metadata": {
    "id": "9c9f49db-072a-4659-91d2-5eff6e59af37"
   },
   "source": [
    "#### CPI Formula:\n",
    "\n",
    "$$ 0.10 \\times Takeout + 0.20 \\times Rent + 0.10 \\times Gasoline + 0.40 \\times Tuition + 0.05 \\times Electricity + 0.05 \\times MedCare + 0.05 \\times Groceries + 0.05 \\times Apparel $$"
   ]
  },
  {
   "cell_type": "markdown",
   "id": "AITOyjcEL9HV",
   "metadata": {
    "id": "AITOyjcEL9HV"
   },
   "source": [
    "#### Building the basket list:"
   ]
  },
  {
   "cell_type": "code",
   "execution_count": 4,
   "id": "378dffc7-7912-4bfb-bd59-d5ad7be9d7e1",
   "metadata": {
    "id": "378dffc7-7912-4bfb-bd59-d5ad7be9d7e1"
   },
   "outputs": [],
   "source": [
    "# Define the prefix for constructing CPI (Consumer Price Index) series codes\n",
    "prefix = 'CUUR'\n",
    "\n",
    "# Define lists of area codes and item codes\n",
    "area = ['0300', '0400', '0230']  # Area codes representing different geographic regions\n",
    "item = ['SEFV', 'SEHA', 'SETB', 'SEEB', 'SEHF', 'SAM', 'SAF11', 'SAA']  # Item codes representing different product categories\n",
    "\n",
    "# Initialize a list with the general CPI series code\n",
    "basketCPI = ['CUUR0000SA0']  # Represents the overall CPI for all urban consumers\n",
    "\n",
    "# Construct the CPI series codes for each combination of area and item\n",
    "for a in area:\n",
    "    for i in item:\n",
    "        basketCPI.append(prefix + a + i)  # Append the generated CPI series code to the list"
   ]
  },
  {
   "cell_type": "markdown",
   "id": "hqf3Zcm9_6Nl",
   "metadata": {
    "id": "hqf3Zcm9_6Nl"
   },
   "source": [
    "#### No changes necessary for refining."
   ]
  },
  {
   "cell_type": "markdown",
   "id": "406e7f1e-0677-48d0-932e-e4c6e720d22e",
   "metadata": {
    "id": "406e7f1e-0677-48d0-932e-e4c6e720d22e"
   },
   "source": [
    "## 3. Functions"
   ]
  },
  {
   "cell_type": "markdown",
   "id": "3675c04a-958b-4115-a4be-38f0a0b247bf",
   "metadata": {
    "id": "3675c04a-958b-4115-a4be-38f0a0b247bf"
   },
   "source": [
    "#### Define the download function:"
   ]
  },
  {
   "cell_type": "code",
   "execution_count": 5,
   "id": "c536be6b-a6a2-43ed-ac24-6ef1f19dc0ba",
   "metadata": {
    "id": "c536be6b-a6a2-43ed-ac24-6ef1f19dc0ba"
   },
   "outputs": [],
   "source": [
    "def multiSeriesV4(varList, myKey, first='2019', last='2024'):\n",
    "    \"\"\"\n",
    "    Retrieve time series data from the U.S. Bureau of Labor Statistics (BLS) API for multiple series IDs.\n",
    "\n",
    "    Parameters:\n",
    "    -----------\n",
    "    varList : list of str\n",
    "        A list of BLS series IDs (e.g., ['CUUR0000SA0', 'SUUR0000SA0']) for which data is to be retrieved.\n",
    "    myKey : str\n",
    "        Your BLS API registration key. This is required to access the BLS API.\n",
    "    first : str, optional\n",
    "        The starting year for the data retrieval. Default is '2019'.\n",
    "    last : str, optional\n",
    "        The ending year for the data retrieval. Default is '2024'.\n",
    "\n",
    "    Returns:\n",
    "    --------\n",
    "    pandas.DataFrame\n",
    "        A DataFrame containing the retrieved time series data. The DataFrame has the following columns:\n",
    "        - year: The year of the observation.\n",
    "        - period: The period (e.g., month) of the observation.\n",
    "        - Additional columns for each series ID, where the column name is the series ID and the values are the corresponding data points.\n",
    "\n",
    "    Raises:\n",
    "    -------\n",
    "    ValueError\n",
    "        - If the API request fails (e.g., due to an invalid API key or network issues).\n",
    "        - If the API response format is invalid or does not contain the expected data.\n",
    "\n",
    "    Notes:\n",
    "    ------\n",
    "    - Ensure you have a valid BLS API key before using this function.\n",
    "    - The function uses the `requests` library to make HTTP POST requests to the BLS API and the `pandas` library to structure the data.\n",
    "    - If a series ID does not exist or contains no data, a message will be printed, and the series will be skipped.\n",
    "\n",
    "    Dependencies:\n",
    "    -------------\n",
    "    - requests: To make HTTP requests to the BLS API.\n",
    "    - pandas: To structure and manipulate the data.\n",
    "    - json: To encode the request parameters.\n",
    "\n",
    "    Installation of Dependencies:\n",
    "    -----------------------------\n",
    "    If you don't have the required libraries installed, you can install them using pip:\n",
    "    >>> pip install requests pandas\n",
    "    \"\"\"\n",
    "    base_url = 'https://api.bls.gov/publicAPI/v2/timeseries/data/'\n",
    "    headers = {'Content-type': 'application/json'}\n",
    "\n",
    "    parameters = {\n",
    "        \"seriesid\": varList,\n",
    "        \"startyear\": str(first),\n",
    "        \"endyear\": str(last),\n",
    "        \"catalog\": True,\n",
    "        \"calculations\": False,\n",
    "        \"annualaverage\": False,\n",
    "        \"aspects\": False,\n",
    "        \"registrationkey\": myKey\n",
    "    }\n",
    "\n",
    "    response = requests.post(base_url, data=json.dumps(parameters), headers=headers)\n",
    "\n",
    "    if response.status_code != 200:\n",
    "        raise ValueError(f\"API request failed with status code {response.status_code}\")\n",
    "\n",
    "    json_data = response.json()\n",
    "\n",
    "    if 'Results' not in json_data or 'series' not in json_data['Results']:\n",
    "        raise ValueError(\"Invalid API response format\")\n",
    "\n",
    "    series_data = json_data['Results']['series']\n",
    "\n",
    "    # Create an empty DataFrame\n",
    "    new_df = pd.DataFrame(columns=['year', 'period'])\n",
    "\n",
    "    for series in series_data:\n",
    "        series_id = series.get('seriesID', 'Unknown')\n",
    "        data = series.get('data', [])\n",
    "\n",
    "        if not data:\n",
    "            print(f\"Series '{series_id}' does not exist or contains no data.\")\n",
    "            continue\n",
    "\n",
    "        print(f\"Series '{series_id}' retrieved with {len(data)} observations.\")\n",
    "\n",
    "        # Convert the API response to a DataFrame\n",
    "        current_df = pd.DataFrame(data)[['year', 'period', 'value']].astype({'value': 'float64'})\n",
    "        current_df.rename(columns={'value': series_id}, inplace=True)\n",
    "\n",
    "        # Merge into the main DataFrame\n",
    "        new_df = new_df.merge(current_df, on=['year', 'period'], how='outer')\n",
    "\n",
    "    return new_df"
   ]
  },
  {
   "cell_type": "markdown",
   "id": "90d2c550-26ed-4ef8-abfb-246a293d71b3",
   "metadata": {
    "id": "90d2c550-26ed-4ef8-abfb-246a293d71b3"
   },
   "source": [
    "#### Define inflation calculation function for myCPI and General CPI:"
   ]
  },
  {
   "cell_type": "code",
   "execution_count": 6,
   "id": "8d55d8fd-3441-44e5-8c07-1c13f0d4d8b2",
   "metadata": {
    "id": "8d55d8fd-3441-44e5-8c07-1c13f0d4d8b2"
   },
   "outputs": [],
   "source": [
    "# Calculate the inflation rate for myCPI.\n",
    "def myinflation(lag):\n",
    "    \"\"\"\n",
    "    Calculate the inflation rate for a given lag using the `mycpi` data.\n",
    "\n",
    "    Parameters:\n",
    "    -----------\n",
    "    lag : int\n",
    "        The lag period (in months) used to calculate the inflation rate. For example, a lag of 0 calculates\n",
    "        the inflation rate for the most recent month compared to the same month in the previous year.\n",
    "\n",
    "    Returns:\n",
    "    --------\n",
    "    float\n",
    "        The inflation rate as a percentage. This is calculated as the percentage change in the CPI (Consumer Price Index)\n",
    "        between the current month and the same month in the previous year.\n",
    "\n",
    "    Formula:\n",
    "    --------\n",
    "    The inflation rate is calculated using the formula:\n",
    "        inflation_rate = ((new / old) - 1) * 100\n",
    "    where:\n",
    "        - new: The CPI value for the current month (at the given lag).\n",
    "        - old: The CPI value for the same month in the previous year (12 months prior to the current month).\n",
    "\n",
    "    Notes:\n",
    "    ------\n",
    "    - The function assumes that `mycpi` is a predefined list or array containing CPI values, where each element\n",
    "      represents the CPI for a specific month.\n",
    "    - The lag value should be within the valid range of the `mycpi` data to avoid index errors.\n",
    "    \"\"\"\n",
    "    new = mycpi[lag]\n",
    "    old = mycpi[12 + lag]\n",
    "\n",
    "    change = (new / old - 1) * 100\n",
    "\n",
    "    return change"
   ]
  },
  {
   "cell_type": "code",
   "execution_count": 7,
   "id": "f62485ff-0eae-4931-8e82-cfed8388f229",
   "metadata": {
    "id": "f62485ff-0eae-4931-8e82-cfed8388f229"
   },
   "outputs": [],
   "source": [
    "# Calculate the General CPI inflation rate.\n",
    "def generalinflation(lag):\n",
    "    \"\"\"\n",
    "    Calculate the general Consumer Price Index (CPI) inflation rate for a given lag.\n",
    "\n",
    "    Parameters:\n",
    "    -----------\n",
    "    lag : int\n",
    "        The lag period (in months) used to calculate the inflation rate. For example, a lag of 0 calculates\n",
    "        the inflation rate for the most recent month compared to the same month in the previous year.\n",
    "\n",
    "    Returns:\n",
    "    --------\n",
    "    float\n",
    "        The general CPI inflation rate as a percentage. This is calculated as the percentage change in the CPI\n",
    "        between the current month and the same month in the previous year.\n",
    "\n",
    "    Formula:\n",
    "    --------\n",
    "    The inflation rate is calculated using the formula:\n",
    "        inflation_rate = ((new / old) - 1) * 100\n",
    "    where:\n",
    "        - new: The CPI value for the current month (at the given lag).\n",
    "        - old: The CPI value for the same month in the previous year (12 months prior to the current month).\n",
    "\n",
    "    Notes:\n",
    "    ------\n",
    "    - The function assumes that `cpi` is a predefined list or array containing CPI values, where each element\n",
    "      represents the CPI for a specific month.\n",
    "    - The lag value should be within the valid range of the `cpi` data to avoid index errors.\n",
    "    \"\"\"\n",
    "    new = cpi[lag]\n",
    "    old = cpi[12 + lag]\n",
    "\n",
    "    change = (new / old - 1) * 100\n",
    "\n",
    "    return change"
   ]
  },
  {
   "cell_type": "markdown",
   "id": "cda9390a-f6da-460a-bd5b-705d7766e11e",
   "metadata": {
    "id": "cda9390a-f6da-460a-bd5b-705d7766e11e"
   },
   "source": [
    "## 4. Operation"
   ]
  },
  {
   "cell_type": "markdown",
   "id": "5e891635-c8eb-45f5-8c03-5bb605ab246c",
   "metadata": {
    "id": "5e891635-c8eb-45f5-8c03-5bb605ab246c"
   },
   "source": [
    "#### Get data:"
   ]
  },
  {
   "cell_type": "code",
   "execution_count": 8,
   "id": "3463b14e-9481-4c0d-85e5-ea85abd4c2b6",
   "metadata": {
    "colab": {
     "base_uri": "https://localhost:8080/"
    },
    "id": "3463b14e-9481-4c0d-85e5-ea85abd4c2b6",
    "outputId": "fe4c703a-2d1b-45a9-ba17-323226099e14",
    "scrolled": true
   },
   "outputs": [
    {
     "name": "stdout",
     "output_type": "stream",
     "text": [
      "Series 'CUUR0000SA0' retrieved with 72 observations.\n",
      "Series 'CUUR0300SEFV' retrieved with 72 observations.\n",
      "Series 'CUUR0300SEHA' retrieved with 72 observations.\n",
      "Series 'CUUR0300SETB' retrieved with 72 observations.\n",
      "Series 'CUUR0300SEEB' retrieved with 72 observations.\n",
      "Series 'CUUR0300SEHF' retrieved with 72 observations.\n",
      "Series 'CUUR0300SAM' retrieved with 72 observations.\n",
      "Series 'CUUR0300SAF11' retrieved with 72 observations.\n",
      "Series 'CUUR0300SAA' retrieved with 72 observations.\n",
      "Series 'CUUR0400SEFV' retrieved with 72 observations.\n",
      "Series 'CUUR0400SEHA' retrieved with 72 observations.\n",
      "Series 'CUUR0400SETB' retrieved with 72 observations.\n",
      "Series 'CUUR0400SEEB' retrieved with 72 observations.\n",
      "Series 'CUUR0400SEHF' retrieved with 72 observations.\n",
      "Series 'CUUR0400SAM' retrieved with 72 observations.\n",
      "Series 'CUUR0400SAF11' retrieved with 72 observations.\n",
      "Series 'CUUR0400SAA' retrieved with 72 observations.\n",
      "Series 'CUUR0230SEFV' retrieved with 72 observations.\n",
      "Series 'CUUR0230SEHA' retrieved with 72 observations.\n",
      "Series 'CUUR0230SETB' retrieved with 72 observations.\n",
      "Series 'CUUR0230SEEB' retrieved with 72 observations.\n",
      "Series 'CUUR0230SEHF' retrieved with 72 observations.\n",
      "Series 'CUUR0230SAM' retrieved with 72 observations.\n",
      "Series 'CUUR0230SAF11' retrieved with 72 observations.\n",
      "Series 'CUUR0230SAA' retrieved with 72 observations.\n"
     ]
    }
   ],
   "source": [
    "# Call the function multiSeriesV4 to fetch data for the specified CPI series\n",
    "# 'basketCPI' contains the list of CPI series codes, and 'key' is the API key for authentication\n",
    "df = multiSeriesV4(basketCPI, key)\n",
    "\n",
    "# Rename the column 'CUUR0000SA0' to 'CPI_U' for better readability\n",
    "df = df.rename(columns={\"CUUR0000SA0\": 'CPI_U'})"
   ]
  },
  {
   "cell_type": "markdown",
   "id": "439fed0b-68dd-4321-b251-9d5211dc07f0",
   "metadata": {
    "id": "439fed0b-68dd-4321-b251-9d5211dc07f0"
   },
   "source": [
    "#### Calculate myCPI:"
   ]
  },
  {
   "cell_type": "code",
   "execution_count": 9,
   "id": "9e6d5322-6a2b-427f-9799-1399054643b9",
   "metadata": {
    "id": "9e6d5322-6a2b-427f-9799-1399054643b9"
   },
   "outputs": [],
   "source": [
    "# Get the number of rows (nrows) and columns (ncols) in the DataFrame\n",
    "nrows, ncols = df.shape\n",
    "\n",
    "# Add a new column 'myCPI' to the DataFrame, initializing all values to zero\n",
    "df[\"myCPI\"] = np.zeros(nrows)  # Creates an array of zeros with the same number of rows as 'df'"
   ]
  },
  {
   "cell_type": "code",
   "execution_count": 10,
   "id": "453874a1-33eb-46e2-91d0-97da01239b18",
   "metadata": {
    "id": "453874a1-33eb-46e2-91d0-97da01239b18"
   },
   "outputs": [],
   "source": [
    "# Define the weight distribution for different areas\n",
    "areaWeights = [0.1, 0.5, 0.4]  # Corresponds to the areas ['0300', '0400', '0230']\n",
    "\n",
    "# Define the weight distribution for different items\n",
    "itemWeights = [0.1, 0.2, 0.1, 0.4, 0.05, 0.05, 0.05, 0.05]  # Corresponds to the items ['SEFV', 'SEHA', 'SETB', 'SEEB', 'SEHF', 'SAM', 'SAF11', 'SAA']"
   ]
  },
  {
   "cell_type": "code",
   "execution_count": 11,
   "id": "14d1bf51-b060-462d-b529-27dfd7aac776",
   "metadata": {
    "id": "14d1bf51-b060-462d-b529-27dfd7aac776"
   },
   "outputs": [],
   "source": [
    "# Initialize an empty list to store the computed weights\n",
    "weights = []\n",
    "\n",
    "# Compute the weighted contribution of each item within each area\n",
    "for a in areaWeights:  # Iterate through area weights\n",
    "    for i in itemWeights:  # Iterate through item weights\n",
    "        weights.append(a * i)  # Multiply area weight by item weight and store in the list"
   ]
  },
  {
   "cell_type": "code",
   "execution_count": 12,
   "id": "eb577ae1-db9c-4ae9-a8f1-b70b26c7a447",
   "metadata": {
    "id": "eb577ae1-db9c-4ae9-a8f1-b70b26c7a447"
   },
   "outputs": [],
   "source": [
    "# Iterate through the weights list and update the 'myCPI' column\n",
    "for i in range(len(weights)):\n",
    "    df.myCPI += weights[i] * df[basketCPI[i+1]]  # Multiply each CPI series by its corresponding weight and add to 'myCPI'"
   ]
  },
  {
   "cell_type": "code",
   "execution_count": 13,
   "id": "bb1952a9-f717-4738-8414-df49eaaff5e8",
   "metadata": {
    "colab": {
     "base_uri": "https://localhost:8080/",
     "height": 458
    },
    "id": "bb1952a9-f717-4738-8414-df49eaaff5e8",
    "outputId": "5b1a344e-92c9-426c-e073-31f26b0303a7"
   },
   "outputs": [
    {
     "data": {
      "text/plain": [
       "0     490.456095\n",
       "1     491.030325\n",
       "2     492.638750\n",
       "3     495.409750\n",
       "4     497.786965\n",
       "         ...    \n",
       "67    588.536790\n",
       "68    590.693040\n",
       "69    590.821625\n",
       "70    589.725335\n",
       "71    589.677565\n",
       "Name: myCPI, Length: 72, dtype: float64"
      ]
     },
     "execution_count": 13,
     "metadata": {},
     "output_type": "execute_result"
    }
   ],
   "source": [
    "df.myCPI"
   ]
  },
  {
   "cell_type": "markdown",
   "id": "72b280e4-206f-4943-98a2-70f6ab786d5e",
   "metadata": {
    "id": "72b280e4-206f-4943-98a2-70f6ab786d5e"
   },
   "source": [
    "#### Calculate inflation rate:"
   ]
  },
  {
   "cell_type": "code",
   "execution_count": 14,
   "id": "8457c43c-8bec-4e83-816d-1a498d3303c9",
   "metadata": {
    "id": "8457c43c-8bec-4e83-816d-1a498d3303c9"
   },
   "outputs": [],
   "source": [
    "# Extract the official CPI data into a separate variable\n",
    "cpi = df[\"CPI_U\"]  # 'CPI_U' represents the general Consumer Price Index (Urban)\n",
    "\n",
    "# Extract the custom weighted CPI into a separate variable\n",
    "mycpi = df[\"myCPI\"]  # 'myCPI' is the computed index based on area and item weights"
   ]
  },
  {
   "cell_type": "code",
   "execution_count": 15,
   "id": "70d94f31-769b-4ba8-ab4a-e05fca17f4d0",
   "metadata": {
    "colab": {
     "base_uri": "https://localhost:8080/"
    },
    "id": "70d94f31-769b-4ba8-ab4a-e05fca17f4d0",
    "outputId": "5183ea90-8b3f-4943-8149-e742c1519f29"
   },
   "outputs": [
    {
     "name": "stdout",
     "output_type": "stream",
     "text": [
      "There are 60 months in our inflation data\n"
     ]
    }
   ],
   "source": [
    "# Calculate the number of months in the dataset excluding the last 12 months\n",
    "obs = nrows - 12\n",
    "\n",
    "# Print the result\n",
    "print(f\"There are {obs} months in our inflation data\")"
   ]
  },
  {
   "cell_type": "code",
   "execution_count": 16,
   "id": "f7db4c6b-edf6-4247-aca4-d9fac90c5060",
   "metadata": {
    "id": "f7db4c6b-edf6-4247-aca4-d9fac90c5060"
   },
   "outputs": [],
   "source": [
    "# Compute custom inflation rates for the available months using the 'myinflation' function\n",
    "myInflation = list(map(myinflation, range(obs)))  # Apply 'myinflation' function to each value in the range of 'obs'\n",
    "\n",
    "# Reverse the order of the computed inflation rates (likely to align with chronological order)\n",
    "myInflation.reverse()"
   ]
  },
  {
   "cell_type": "code",
   "execution_count": 17,
   "id": "b62ea7b0-bee5-4e75-ac8b-ed41f103b4ee",
   "metadata": {
    "id": "b62ea7b0-bee5-4e75-ac8b-ed41f103b4ee"
   },
   "outputs": [],
   "source": [
    "# Create a list of lag values representing the time periods (from 0 to obs-1)\n",
    "lags = list(range(obs))\n",
    "\n",
    "# Reverse the order to match the reversed inflation data\n",
    "lags.reverse()\n",
    "\n",
    "# Convert all lag values to strings for labeling or plotting purposes\n",
    "lags = list(map(str, lags))"
   ]
  },
  {
   "cell_type": "code",
   "execution_count": 18,
   "id": "fa62f5de-98dd-4eb9-90a3-075e43132415",
   "metadata": {
    "id": "fa62f5de-98dd-4eb9-90a3-075e43132415"
   },
   "outputs": [],
   "source": [
    "# Compute general inflation rates for the available months using the 'generalinflation' function\n",
    "Inflation = list(map(generalinflation, range(obs)))  # Apply 'generalinflation' function to each month in the range of 'obs'\n",
    "\n",
    "# Reverse the order of the computed inflation rates (likely to align with chronological order)\n",
    "Inflation.reverse()"
   ]
  },
  {
   "cell_type": "markdown",
   "id": "926473b4-6c48-4d9c-b1f7-6a302c5287fc",
   "metadata": {
    "id": "926473b4-6c48-4d9c-b1f7-6a302c5287fc"
   },
   "source": [
    "#### Plotting 12-Month Inflation: General CPI v.s. My CPI"
   ]
  },
  {
   "cell_type": "code",
   "execution_count": 19,
   "id": "1d9346fa-ea63-4e05-b846-cdb53b98f0bb",
   "metadata": {
    "colab": {
     "base_uri": "https://localhost:8080/",
     "height": 712
    },
    "id": "1d9346fa-ea63-4e05-b846-cdb53b98f0bb",
    "outputId": "935cb3ee-eff4-4205-f010-543b9dfd3291"
   },
   "outputs": [
    {
     "data": {
      "image/png": "[encoded data removed]",
      "text/plain": [
       "<Figure size 2000x1000 with 1 Axes>"
      ]
     },
     "metadata": {},
     "output_type": "display_data"
    }
   ],
   "source": [
    "# Set the figure size for better visibility\n",
    "plt.figure(figsize=(20, 10))\n",
    "\n",
    "# Plot the general CPI inflation data\n",
    "plt.plot(lags, Inflation, color='blue', marker='o', linestyle='solid', label=\"General CPI\")\n",
    "\n",
    "# Plot the custom CPI inflation data\n",
    "plt.plot(lags, myInflation, color='green', marker='*', linestyle='dashed', label=\"My CPI\")\n",
    "\n",
    "# Add a legend to distinguish between the two lines\n",
    "plt.legend(loc='upper left')\n",
    "\n",
    "# Set the title of the plot\n",
    "plt.title(\"12-Month Inflation: General CPI vs. My CPI\")\n",
    "\n",
    "# Label the x-axis as \"Lag (months)\"\n",
    "plt.xlabel(\"Lag (months)\")\n",
    "\n",
    "# Label the y-axis as \"Inflation (%)\"\n",
    "plt.ylabel(\"Inflation (%)\")\n",
    "\n",
    "# Display the plot\n",
    "plt.show()"
   ]
  },
  {
   "cell_type": "code",
   "execution_count": 20,
   "id": "41d87cfd-925e-4df0-86c0-ac0c9bebc27c",
   "metadata": {
    "colab": {
     "base_uri": "https://localhost:8080/"
    },
    "id": "41d87cfd-925e-4df0-86c0-ac0c9bebc27c",
    "outputId": "5ee6422e-044c-4852-a8e7-9c8b782affb3"
   },
   "outputs": [
    {
     "data": {
      "text/plain": [
       "-2.4262417093394273"
      ]
     },
     "execution_count": 20,
     "metadata": {},
     "output_type": "execute_result"
    }
   ],
   "source": [
    "generalinflation(0)"
   ]
  },
  {
   "cell_type": "markdown",
   "id": "4b56803d-7ecb-4713-986e-e39284bac90c",
   "metadata": {
    "id": "4b56803d-7ecb-4713-986e-e39284bac90c"
   },
   "source": [
    "#### Discussion"
   ]
  },
  {
   "cell_type": "markdown",
   "id": "8ec15499-a74b-4f03-b226-db4cfd453679",
   "metadata": {
    "id": "8ec15499-a74b-4f03-b226-db4cfd453679"
   },
   "source": [
    "The My CPI seems to follow the same basic trends of the General CPI with some minor flucuations. From the 20th to the 51st month, the General CPI was significantly higher than My CPI. This may be because the price increase of some items in the basket was smaller than the overall economy due to the increase in prices during the pandemic and the goods in our basket having a greater impact in the time periods that the data was taken from. Some main indicators of the MyCPI not reaching the true levels during the pandemic like follow our inclusion of gasoline and apparel. During these times, prices of apparel remained relavtively constant while prices in fuel dropped greatly due to the lack of demand for the product. Also, healthcare care an overall increase in spending, nonurgent medical services were postponed reducing prices in certain areas. Medical Care overall saw a delayed response to inflation. While we included the price of gasoline in our basket, we did not include the price of a vehicle itself in the basket. Prices of vehicles increased greatly due to the avoidance of public transport, so costs began to rise quickly. Overall, the My CPI follows the same trends at a much milder rate."
   ]
  }
 ],
 "metadata": {
  "colab": {
   "provenance": []
  },
  "kernelspec": {
   "display_name": "Python 3 (ipykernel)",
   "language": "python",
   "name": "python3"
  },
  "language_info": {
   "codemirror_mode": {
    "name": "ipython",
    "version": 3
   },
   "file_extension": ".py",
   "mimetype": "text/x-python",
   "name": "python",
   "nbconvert_exporter": "python",
   "pygments_lexer": "ipython3",
   "version": "3.12.7"
  }
 },
 "nbformat": 4,
 "nbformat_minor": 5
}
